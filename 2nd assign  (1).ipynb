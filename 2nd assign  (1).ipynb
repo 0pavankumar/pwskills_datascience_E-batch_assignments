{
 "cells": [
  {
   "cell_type": "markdown",
   "id": "cc3f80a9-8ce5-4b24-bbcd-aeb20b1665dc",
   "metadata": {
    "tags": []
   },
   "source": [
    " 1Q. WRITE A PROGRAM TO\n",
    "ACCEPT PERCENTAGES FROM THE USER AND DISPLAY THE GRADE ACCORDING TO THE FOLLOWING CRITERIA:\n",
    "MARKS..............GRADES\n",
    ">90 ............... A\n",
    ">80 AND <=90....... B\n",
    ">=60 AND <=80...... C\n",
    "BELOW 60 .......... D"
   ]
  },
  {
   "cell_type": "code",
   "execution_count": null,
   "id": "861e7f1d-0713-4ee5-8491-5ada0ddb82d5",
   "metadata": {},
   "outputs": [
    {
     "name": "stdin",
     "output_type": "stream",
     "text": [
      "ENTER YOUR MARKS:  55\n"
     ]
    },
    {
     "name": "stdout",
     "output_type": "stream",
     "text": [
      "D\n"
     ]
    }
   ],
   "source": [
    "marks= int(input(\"ENTER YOUR MARKS: \"))\n",
    "if marks > 90:\n",
    "    print(\"A\")\n",
    "elif marks >80 and marks<=90:\n",
    "    print(\"B\")\n",
    "elif marks>=60 and marks <=80:\n",
    "    print(\"C\")\n",
    "else: print(\"D\")"
   ]
  },
  {
   "cell_type": "markdown",
   "id": "305bd719-d8e7-4e15-bd1e-0a6f5d54676d",
   "metadata": {},
   "source": [
    "2Q. WRITE A PROGRAM TO ACCEPT COST PRICE OF A BIKE AND DISPLAY THE ROAD TAX TO BE PAID ACCORDING TO THE FOLLOWING CRITERIA:\n",
    "    TAX.............COST PRICE(IN RS)\n",
    "    15% ............. >100000\n",
    "    10% ............. >50000 AND <=100000\n",
    "    5%  .............  <= 50000\n"
   ]
  },
  {
   "cell_type": "code",
   "execution_count": 28,
   "id": "51608483-64f5-472b-a658-011de12d7b16",
   "metadata": {},
   "outputs": [
    {
     "name": "stdin",
     "output_type": "stream",
     "text": [
      "ENTER YOUR BIKE PRICE:   75000\n"
     ]
    },
    {
     "name": "stdout",
     "output_type": "stream",
     "text": [
      "10%\n"
     ]
    }
   ],
   "source": [
    "bikecost= int(input(\"ENTER YOUR BIKE PRICE:  \"))\n",
    "if (bikecost >100000):\n",
    "    print('15%')\n",
    "elif (bikecost<=100000 and bikecost>50000):\n",
    "    print(\"10%\")\n",
    "elif (bikecost<=50000):\n",
    "    peint(\"5%\")"
   ]
  },
  {
   "cell_type": "markdown",
   "id": "a5ec707c-1ef1-4c7a-aaa0-057b61f1c940",
   "metadata": {},
   "source": [
    "3Q. ACCEPT ANY CITY FROM THE USER AND DISPLAY MONUMENTS OF THAT CITY.\n",
    " CITY------ Monument\n",
    " delhi---------- red fort\n",
    " agra ----------taj mahal\n",
    " jaipur --------- jal mahal"
   ]
  },
  {
   "cell_type": "code",
   "execution_count": 33,
   "id": "a0ae0fac-806f-4394-be49-9e81d654756a",
   "metadata": {},
   "outputs": [
    {
     "name": "stdin",
     "output_type": "stream",
     "text": [
      "ENTER YOUR CITY:   delhi\n"
     ]
    },
    {
     "name": "stdout",
     "output_type": "stream",
     "text": [
      "delhi monument redfort\n"
     ]
    }
   ],
   "source": [
    "city=str(input(\"ENTER YOUR CITY:  \"))\n",
    "if city ==\"delhi\": print(\"delhi monument redfort\")\n",
    "elif city==\"agra\": print(\"agra monument taj mahal\")\n",
    "elif city==\"jaipur\": print(\"jaipur monument jai mahal\")"
   ]
  },
  {
   "cell_type": "markdown",
   "id": "e16d70ed-892e-4074-bb85-2104b6069d8b",
   "metadata": {},
   "source": [
    "4Q. CHECK HOW MANY TIMES A GIVEN NUMBER CAN BE DIVIDED BY 3 BEFORE IT IS LESS THAN OR EQUAL TO 10.\n"
   ]
  },
  {
   "cell_type": "code",
   "execution_count": 52,
   "id": "cd096083-6bf1-4126-9dd2-b50861df5f8b",
   "metadata": {},
   "outputs": [
    {
     "name": "stdin",
     "output_type": "stream",
     "text": [
      "ENTER ANY NUMBER:  5465\n"
     ]
    },
    {
     "name": "stdout",
     "output_type": "stream",
     "text": [
      "the number is divided by 3 is 6 times before it is lessthan or equal to 10.\n"
     ]
    }
   ],
   "source": [
    "number= int(input(\"ENTER ANY NUMBER: \"))\n",
    "count=0\n",
    "while number>10:\n",
    "    number= number/3\n",
    "    count += 1\n",
    "\n",
    "print(\"the number is divided by 3 is\", count, \"times before it is lessthan or equal to 10.\")"
   ]
  },
  {
   "cell_type": "markdown",
   "id": "2027d569-94f1-490b-a455-bcd3540dd562",
   "metadata": {},
   "source": [
    "5Q. WHY AND WHEN TO USE WHILE LOOP IN PYTHON GIVE A DETAILED DESCRIPTION WITH EXAMPLES\n"
   ]
  },
  {
   "cell_type": "code",
   "execution_count": 34,
   "id": "188208d4-4075-4744-a7f2-0a222763d31a",
   "metadata": {},
   "outputs": [
    {
     "name": "stdout",
     "output_type": "stream",
     "text": [
      "1\n",
      "2\n",
      "3\n",
      "4\n",
      "5\n",
      "6\n",
      "7\n",
      "8\n",
      "9\n",
      "10\n"
     ]
    }
   ],
   "source": [
    "# A while loop in Python is used to repeatedly execute a block of code\n",
    "# as long as a certain condition is met.\n",
    "# The loop will keep running as long as the condition is True,\n",
    "# and will exit when the condition becomes False.\n",
    "\n",
    "# Here's the general syntax for a while loop in Python:\n",
    "# while condition:\n",
    "#     # Code to be executed\n",
    "\n",
    "# Here's an example that demonstrates the use of a while loop:\n",
    "# Print the numbers from 1 to 10\n",
    "counter = 1\n",
    "\n",
    "while counter <= 10:\n",
    "    print(counter)\n",
    "    counter += 1\n",
    "\n",
    "# In this example, the while loop will run as long as\n",
    "# the value of counter is less than or equal to 10.\n",
    "# On each iteration of the loop, the value of counter is printed,\n",
    "# and then incremented by 1.\n",
    "# The loop will exit when the value of counter becomes greater than 10.\n",
    "\n",
    "# The while loop is useful when you don't know in advance how many times\n",
    "# you need to loop, and you want to keep looping until a certain condition is met.\n",
    "# For example, you can use a while loop to read data from a file until the end of the file is reached,\n",
    "# or to keep asking the user for input until a valid response is given."
   ]
  },
  {
   "cell_type": "markdown",
   "id": "9c99d78c-ee0c-4412-8b28-66e3d6ebfce9",
   "metadata": {},
   "source": [
    "6Q. USE NESTED WHILE LOOP TO PRINT 3 DIFFERENT PATTERN."
   ]
  },
  {
   "cell_type": "code",
   "execution_count": 11,
   "id": "ed8e8fa3-4750-43e1-848a-a2286768f698",
   "metadata": {},
   "outputs": [
    {
     "name": "stdout",
     "output_type": "stream",
     "text": [
      "pattern 1\n",
      "1\n",
      "12\n",
      "123\n",
      "1234\n",
      "12345\n",
      "123456\n",
      "1234567\n",
      "12345678\n",
      "123456789\n"
     ]
    }
   ],
   "source": [
    "print(\"pattern 1\")\n",
    "i=1 \n",
    "j=1\n",
    "while i<10:\n",
    "    while j<=i:\n",
    "        print(j, end=\"\")\n",
    "        j+=1\n",
    "    print()\n",
    "    j=1\n",
    "    i+=1"
   ]
  },
  {
   "cell_type": "code",
   "execution_count": 15,
   "id": "7310748f-3871-4f55-92e8-df4809ef14ac",
   "metadata": {},
   "outputs": [
    {
     "name": "stdout",
     "output_type": "stream",
     "text": [
      "pattern 3\n",
      "$$\n",
      "$$$$\n",
      "$$$$$$\n",
      "$$$$$$$$\n",
      "$$$$$$$$$$\n"
     ]
    }
   ],
   "source": [
    "print(\"pattern 2\")\n",
    "i=1\n",
    "j=1\n",
    "while i<6:\n",
    "    while j<=i:\n",
    "        print(\"$$\", end=\"\")\n",
    "        j+=1\n",
    "    print()\n",
    "    j=1\n",
    "    i+=1"
   ]
  },
  {
   "cell_type": "code",
   "execution_count": 21,
   "id": "d2663366-e783-48b6-ba16-75f23ecb8a0a",
   "metadata": {},
   "outputs": [
    {
     "name": "stdout",
     "output_type": "stream",
     "text": [
      "pattern 3\n",
      "!\n",
      "!!\n",
      "!!!\n",
      "!!!!\n",
      "!!!!!\n",
      "!!!!!!\n",
      "!!!!!!!\n",
      "!!!!!!!!\n",
      "!!!!!!!!!\n",
      "!!!!!!!!!!\n",
      "!!!!!!!!!!!\n",
      "!!!!!!!!!!!!\n",
      "!!!!!!!!!!!!!\n",
      "!!!!!!!!!!!!!!\n",
      "!!!!!!!!!!!!!!!\n",
      "!!!!!!!!!!!!!!!!\n",
      "!!!!!!!!!!!!!!!!!\n",
      "!!!!!!!!!!!!!!!!!!\n",
      "!!!!!!!!!!!!!!!!!!!\n"
     ]
    }
   ],
   "source": [
    "print(\"pattern 3\")\n",
    "i=1\n",
    "j=1\n",
    "while i<20:\n",
    "    while j<=i:\n",
    "        print(\"!\", end=\"\")\n",
    "        j+=1\n",
    "    print()\n",
    "    j=1\n",
    "    i+=1"
   ]
  },
  {
   "cell_type": "markdown",
   "id": "a44a9076-5abf-4172-9e91-e9ba9ac7e993",
   "metadata": {},
   "source": [
    "7Q. REVERSE A WHILE LOOP TO DISPLAY NUMBERS FROM 10 TO 1."
   ]
  },
  {
   "cell_type": "code",
   "execution_count": 22,
   "id": "fab1c070-9c63-4dac-923f-004f7d8681cc",
   "metadata": {},
   "outputs": [
    {
     "name": "stdout",
     "output_type": "stream",
     "text": [
      "10\n",
      "9\n",
      "8\n",
      "7\n",
      "6\n",
      "5\n",
      "4\n",
      "3\n",
      "2\n",
      "1\n"
     ]
    }
   ],
   "source": [
    "upperbound=10\n",
    "lowerbound=1\n",
    "while upperbound>=lowerbound:\n",
    "    print(upperbound)\n",
    "    upperbound-=1"
   ]
  },
  {
   "cell_type": "markdown",
   "id": "a3d006b7-2006-4fc5-a534-7765598b8575",
   "metadata": {},
   "source": [
    "8Q. REVERSE A WHILE LOOP TO DISPLAY NUMUMBERS FROM 10 TO 1.\n"
   ]
  },
  {
   "cell_type": "code",
   "execution_count": null,
   "id": "53918cfa-cb81-439b-982e-cc789ebcbb6c",
   "metadata": {},
   "outputs": [],
   "source": [
    "upperbound=10\n",
    "lowerbound=1\n",
    "while upperbound>=lowerbound:\n",
    "    print(upperbound)\n",
    "    upperbound-=1"
   ]
  },
  {
   "cell_type": "code",
   "execution_count": null,
   "id": "3635b0c0-4c44-4b61-8806-088f24780258",
   "metadata": {},
   "outputs": [],
   "source": []
  }
 ],
 "metadata": {
  "kernelspec": {
   "display_name": "Python 3 (ipykernel)",
   "language": "python",
   "name": "python3"
  },
  "language_info": {
   "codemirror_mode": {
    "name": "ipython",
    "version": 3
   },
   "file_extension": ".py",
   "mimetype": "text/x-python",
   "name": "python",
   "nbconvert_exporter": "python",
   "pygments_lexer": "ipython3",
   "version": "3.10.8"
  }
 },
 "nbformat": 4,
 "nbformat_minor": 5
}
