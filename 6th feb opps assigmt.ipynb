{
 "cells": [
  {
   "cell_type": "markdown",
   "id": "8c92974a-1ea7-4f51-927e-64d6141e0bee",
   "metadata": {},
   "source": [
    "Q1. Create a function which will take a list as an argument and return the product of all the numbers\n",
    "after creating a flat list.\n",
    "Use the below-given list as an argument for your function.\n",
    "list1 = [1,2,3,4, [44,55,66, True], False, (34,56,78,89,34), {1,2,3,3,2,1}, {1:34, \"key2\": [55, 67, 78, 89], 4: (45,\n",
    "22, 61, 34)}, [56, 'data science'], 'Machine Learning']\n",
    "Note: you must extract numeric keys and values of the dictionary also."
   ]
  },
  {
   "cell_type": "code",
   "execution_count": 1,
   "id": "92712845-14ba-4832-b47a-9b4c32de019b",
   "metadata": {},
   "outputs": [
    {
     "name": "stdout",
     "output_type": "stream",
     "text": [
      "[1, 2, 3, 4, 44, 55, 66, 34, 56, 78, 89, 34, 1, 1, 2, 2, 3, 3, 1, 34, 55, 67, 78, 89, 4, 45, 22, 61, 34, 56]\n",
      "24808271033922512873003047452672000\n"
     ]
    }
   ],
   "source": [
    "from functools import reduce\n",
    "\n",
    "list1 = [1, 2, 3, 4, [44, 55, 66, True], False, (34, 56, 78, 89, 34), {1, 2, 3, 3, 2, 1},\n",
    "         {1: 34, \"key2\": [55, 67, 78, 89], 4: (45,22, 61, 34)}, [56, 'data science'], \n",
    "         'Machine Learning']\n",
    "\n",
    "\n",
    "def get_product(list_o):\n",
    "    new_lsit = []\n",
    "    for data in list_o:\n",
    "        if type(data) == int:\n",
    "            new_lsit.append(data)\n",
    "        elif type(data) == list:\n",
    "            for data_list in data:\n",
    "                if type(data_list) == int:\n",
    "                    new_lsit.append(data_list)\n",
    "        elif type(data) == tuple:\n",
    "            for data_tuple in data:\n",
    "                if type(data_tuple) == int:\n",
    "                    new_lsit.append(data_tuple)\n",
    "        elif type(data) == dict:\n",
    "            for key, value in data.items():\n",
    "                if type(key) == int:\n",
    "                    new_lsit.append(key)\n",
    "                if type(value) == int:\n",
    "                    new_lsit.append(value)\n",
    "                elif type(value) == int:\n",
    "                    new_lsit.append(value)\n",
    "                elif type(value) == list:\n",
    "                    for data_list in value:\n",
    "                        if type(data_list) == int:\n",
    "                            new_lsit.append(data_list)\n",
    "                elif type(value) == tuple:\n",
    "                    for data_tuple in value:\n",
    "                        if type(data_tuple) == int:\n",
    "                            new_lsit.append(data_tuple)\n",
    "        elif type(data) == set:\n",
    "            for num in list(data):\n",
    "                new_lsit.append(num)\n",
    "                new_lsit.append(num)\n",
    "\n",
    "    product = reduce(lambda x, y: x * y, new_lsit)\n",
    "    print(new_lsit)\n",
    "    return product\n",
    "\n",
    "\n",
    "print(get_product(list1))"
   ]
  },
  {
   "cell_type": "markdown",
   "id": "ef6fa7bc-f39d-4f5f-8973-5753c9482caa",
   "metadata": {},
   "source": [
    "Q2. Write a python program for encrypting a message sent to you by your friend. The logic of encryption\n",
    "should be such that, for a the output should be z. For b, the output should be y. For c, the output should\n",
    "be x respectively. Also, the whitespace should be replaced with a dollar sign. Keep the punctuation\n",
    "marks unchanged.\n",
    "Input Sentence: I want to become a Data Scientist.\n",
    "Encrypt the above input sentence using the program you just created."
   ]
  },
  {
   "cell_type": "code",
   "execution_count": 2,
   "id": "3b925e30-c114-4faa-8a73-fa6805db2590",
   "metadata": {},
   "outputs": [
    {
     "name": "stdin",
     "output_type": "stream",
     "text": [
      "Please enter your message ? I want to become a Data scientist\n"
     ]
    },
    {
     "name": "stdout",
     "output_type": "stream",
     "text": [
      "t$nzro$oq$yuxqsu$z$vzoz$pxturotpo\n"
     ]
    }
   ],
   "source": [
    "user_input = input(\"Please enter your message ?\")\n",
    "dict_input = {\"a\": \"z\", \"b\": \"y\", \"c\": \"x\", \"d\": \"v\", \"e\": \"u\", \"i\": \"t\", \n",
    "              \"m\": \"s\", \"n\": \"r\", \"o\": \"q\", \"s\": \"p\", \"t\": \"o\", \"w\": \"n\"}\n",
    "\n",
    "rev_input = user_input.lower()\n",
    "encrypt_list = []\n",
    "for i in rev_input:\n",
    "    if i == \" \":\n",
    "        encrypt_list.append(\"$\")\n",
    "    elif i in dict_input:\n",
    "        encrypt_list.append(dict_input[i])\n",
    "encrypt_message= \"\".join(encrypt_list)\n",
    "print(encrypt_message)"
   ]
  },
  {
   "cell_type": "code",
   "execution_count": null,
   "id": "9f77b467-18ca-4edf-b4ec-55bd2b5f29a0",
   "metadata": {},
   "outputs": [],
   "source": []
  }
 ],
 "metadata": {
  "kernelspec": {
   "display_name": "Python 3 (ipykernel)",
   "language": "python",
   "name": "python3"
  },
  "language_info": {
   "codemirror_mode": {
    "name": "ipython",
    "version": 3
   },
   "file_extension": ".py",
   "mimetype": "text/x-python",
   "name": "python",
   "nbconvert_exporter": "python",
   "pygments_lexer": "ipython3",
   "version": "3.10.8"
  }
 },
 "nbformat": 4,
 "nbformat_minor": 5
}
