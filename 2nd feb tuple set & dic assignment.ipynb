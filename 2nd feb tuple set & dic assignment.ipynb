{
 "cells": [
  {
   "cell_type": "markdown",
   "id": "356a0f9c-e22f-44fb-8b4a-379b48f2f597",
   "metadata": {},
   "source": [
    "# Q1. What are the characteristics of the tuples? Is tuple immutable?"
   ]
  },
  {
   "cell_type": "markdown",
   "id": "2cd6cb2b-5c19-403f-a514-1e40cbca9add",
   "metadata": {},
   "source": [
    "ANS: #ans: Tuples are immutable lists and cannot be changed in any way once it is created. Some of the characteristics features of Tuples are: Tuples are defined in the same way as lists. They are enclosed within parenthesis and not within square braces."
   ]
  },
  {
   "cell_type": "markdown",
   "id": "92e9b188-ba31-4c63-8ea6-2a254582ae0d",
   "metadata": {},
   "source": [
    "----------------------------------------------------------------------------------------------------------------\n",
    "\n",
    "Q2. What are the two tuple methods in python? Give an example of each method. Give a reason why\n",
    "tuples have only two in-built methods as compared to Lists."
   ]
  },
  {
   "cell_type": "code",
   "execution_count": null,
   "id": "69f6305c-f4b2-467c-a73f-0f9c0e331bb1",
   "metadata": {},
   "outputs": [],
   "source": [
    "There are only 2 tuple methods that tuple objects can call: count and index. The page contains theses 2 tuple methods. Also the page includes built-in functions that can take tuple as a parameter and perform some task. For example, len () returns the length of a tuple (iterable).\n",
    "count()\tReturns the number of times a specified value occurs in a tuple\n",
    "index()\tSearches the tuple for a specified value and returns the position of where it was found\n"
   ]
  },
  {
   "cell_type": "code",
   "execution_count": 40,
   "id": "379781cc-573b-47ef-9b39-2523d6ef49da",
   "metadata": {},
   "outputs": [
    {
     "name": "stdout",
     "output_type": "stream",
     "text": [
      "4\n"
     ]
    }
   ],
   "source": [
    "#example of tuples\n",
    "a=(4,2,3,4,5,3,3,3,5,6)\n",
    "g=a.count(3)\n",
    "print(g)\n"
   ]
  },
  {
   "cell_type": "code",
   "execution_count": 41,
   "id": "67b36aed-f89c-4cb8-91a9-59d983eb7824",
   "metadata": {},
   "outputs": [
    {
     "name": "stdout",
     "output_type": "stream",
     "text": [
      "1\n"
     ]
    }
   ],
   "source": [
    "a=(4,2,3,4,5,3,3,3,5,6)\n",
    "c=a.index(2)\n",
    "print(c)"
   ]
  },
  {
   "cell_type": "code",
   "execution_count": null,
   "id": "b10ea53d-e1fa-4b20-af10-a29bdad7cb75",
   "metadata": {},
   "outputs": [],
   "source": [
    "#tuple has in build fuction because tuples are immutable and unchangable"
   ]
  },
  {
   "cell_type": "markdown",
   "id": "3c3630ee-e3b3-4c2e-908f-e4e32ffcca6a",
   "metadata": {},
   "source": [
    "----------------------------------------------------------------------------------------------------------------\n",
    "\n",
    "Q3. Which collection datatypes in python do not allow duplicate items? Write a code using a set to remove\n",
    "duplicates from the given list.\n",
    "List = [1, 1, 1, 2, 1, 3, 1, 4, 2, 1, 2, 2, 2, 3, 2, 4, 3, 1, 3, 2, 3, 3, 3, 4, 4, 1, 4, 2, 4, 3, 4, 4]"
   ]
  },
  {
   "cell_type": "markdown",
   "id": "f7cba437-49ec-4252-8648-0f6cf89ee06f",
   "metadata": {},
   "source": [
    "ANS: Python Collections (Arrays) There are four collection data types in the Python programming language: \n",
    "List is a collection which is ordered and changeable. Allows duplicate members. Tuple is a collection which is ordered and unchangeable. Allows duplicate members. \n",
    "Set is a collection which is unordered and unindexed. No duplicate members.\n",
    "Dictionary is a collection which is ordered** and changeable. No duplicate members."
   ]
  },
  {
   "cell_type": "code",
   "execution_count": 6,
   "id": "eadac117-75af-48f6-aee7-99af7532eeec",
   "metadata": {},
   "outputs": [],
   "source": [
    "list= [1, 1, 1, 2, 1, 3, 1, 4, 2, 1, 2, 2, 2, 3, 2, 4, 3, 1, 3, 2, 3, 3, 3, 4, 4, 1, 4, 2, 4, 3, 4, 4]"
   ]
  },
  {
   "cell_type": "code",
   "execution_count": 7,
   "id": "a91c7f77-69f8-4424-84f0-725175daa174",
   "metadata": {},
   "outputs": [
    {
     "data": {
      "text/plain": [
       "{1, 2, 3, 4}"
      ]
     },
     "execution_count": 7,
     "metadata": {},
     "output_type": "execute_result"
    }
   ],
   "source": [
    "set(list)"
   ]
  },
  {
   "cell_type": "markdown",
   "id": "f82cd0a5-c62e-4219-88fc-352b6dcad1e8",
   "metadata": {
    "tags": []
   },
   "source": [
    "----------------------------------------------------------------------------------------------------------------\n",
    "\n",
    "Q4. Explain the difference between the union() and update() methods for a set. Give an example of\n",
    "each method."
   ]
  },
  {
   "cell_type": "markdown",
   "id": "5fbf0f1e-05e1-4e32-9817-07fb08f31c93",
   "metadata": {},
   "source": [
    "UNION:\n",
    "    Returns a set that has the union of all sets.\n",
    "    The union () method returns a set that contains all items from the original set, and all items from the specified set (s). You can specify as many sets you want, separated by commas. It does not have to be a set, it can be any iterable object. If an item is present in more than one set, the result will contain only one appearance of this item.\n",
    "UPDATE:\n",
    "    Adds elements to the set. \n",
    "    The functionality added by the _update methods is the ability to modify existing sets. If you share a set between multiple objects, you may want to modify the existing set so the other objects sharing it will see the changes. If you just create a new set, the other objects won't know about it."
   ]
  },
  {
   "cell_type": "code",
   "execution_count": 20,
   "id": "9c978bda-a7e0-4246-9d52-9be5b9ea4ed1",
   "metadata": {},
   "outputs": [
    {
     "name": "stdout",
     "output_type": "stream",
     "text": [
      "{1, 2, 3, 33, 35, 'google', 'microsoft', 45, 'cherry', 22, 'banana', 25, 'apple'}\n",
      "{1, 2, 35, 3, 33, 'google', 'microsoft', 45, 'cherry', 22, 'banana', 25, 'apple'}\n"
     ]
    }
   ],
   "source": [
    "#EXAMPLE OF UNION\n",
    "x = {\"apple\", \"banana\", \"cherry\",1,2,3,45,33}\n",
    "y = {\"google\", \"microsoft\", \"apple\",1,2,25,35,22}\n",
    "\n",
    "d=x.union(y) \n",
    "print(d)\n",
    "e=y.union(x)\n",
    "print(e)"
   ]
  },
  {
   "cell_type": "code",
   "execution_count": 15,
   "id": "39c8c7e3-a220-4a4f-8ccc-245dc36b6a45",
   "metadata": {},
   "outputs": [
    {
     "name": "stdout",
     "output_type": "stream",
     "text": [
      "{1, 2, 3, 33, 35, 'google', 'microsoft', 461, 'cherry', 'banana', 25, 'apple'}\n",
      "{1, 2, 3, 461, 'cherry', 'banana', 25, 33, 35, 'google', 'microsoft', 'apple'}\n"
     ]
    }
   ],
   "source": [
    "#EXAMPLE OF UPDATE:\n",
    "x = {\"apple\", \"banana\", \"cherry\",1,2,3,461,33}\n",
    "y = {\"google\", \"microsoft\", \"apple\",1,2,25,35}\n",
    "\n",
    "x.update(y) \n",
    "print(x)\n",
    "y.update(x)\n",
    "print(y)"
   ]
  },
  {
   "cell_type": "markdown",
   "id": "8b7a4ebe-325e-4d00-90ce-c568bb4f764c",
   "metadata": {
    "tags": []
   },
   "source": [
    "----------------------------------------------------------------------------------------------------------------\n",
    "\n",
    "Q5. What is a dictionary? Give an example. Also, state whether a dictionary is ordered or unordered."
   ]
  },
  {
   "cell_type": "markdown",
   "id": "77aaeae7-69e4-4c2a-bd08-e0c03d8ec570",
   "metadata": {},
   "source": [
    "ANS: A dictionary is a kind of data structure that stores items in key-value pairs. A key is a unique identifier for an item, and a value is the data associated with that key. Dictionaries often store information such as words and definitions, but they can be used for much more."
   ]
  },
  {
   "cell_type": "code",
   "execution_count": 9,
   "id": "58109fc8-e6c3-431b-9184-43f3e3636f7b",
   "metadata": {},
   "outputs": [
    {
     "name": "stdout",
     "output_type": "stream",
     "text": [
      "{1: 'power', 2: 'gurlu'}\n"
     ]
    },
    {
     "data": {
      "text/plain": [
       "dict"
      ]
     },
     "execution_count": 9,
     "metadata": {},
     "output_type": "execute_result"
    }
   ],
   "source": [
    "#EXAMPLE FOR DICTIONARY\n",
    "a= {1:\"power\", 2:\"gurlu\"}\n",
    "print(a)\n",
    "type(a)"
   ]
  },
  {
   "cell_type": "markdown",
   "id": "4cc57c2e-cf76-4275-9ff8-c8cd0b47cc91",
   "metadata": {},
   "source": [
    "As of Python version 3.7, dictionaries are ordered. In Python 3.6 and earlier, dictionaries are unordered. Dictionaries are written with curly brackets, and have keys and values: Dictionary items are ordered, changeable, and does not allow duplicates. Dictionary items are presented in key:value pairs, and can be referred to by using the key name."
   ]
  },
  {
   "cell_type": "markdown",
   "id": "4451664e-49ae-4331-9def-d58df636e6f6",
   "metadata": {},
   "source": [
    "----------------------------------------------------------------------------------------------------------------\n",
    "\n",
    "\n",
    "Can we create a nested dictionary?Q6. Can we create a nested dictionary? If so, please give an example by creating a simple one-level\n",
    "nested dictionary."
   ]
  },
  {
   "cell_type": "code",
   "execution_count": 14,
   "id": "13a2bfee-ec25-45e8-88f0-1b622a13a4bb",
   "metadata": {},
   "outputs": [],
   "source": [
    "#A dictionary can contain dictionaries\n",
    "#this is called nested dictionaries\n",
    "child1 = {\n",
    "  \"name\" : \"Emil\",\n",
    "  \"year\" : 2004\n",
    "}\n",
    "child2 = {\n",
    "  \"name\" : \"Tobias\",\n",
    "  \"year\" : 2007\n",
    "}\n",
    "child3 = {\n",
    "  \"name\" : \"Linus\",\n",
    "  \"year\" : 2011\n",
    "}\n",
    "\n",
    "myfamily = {\n",
    "  \"child1\" : child1,\n",
    "  \"child2\" : child2,\n",
    "  \"child3\" : child3\n",
    "}"
   ]
  },
  {
   "cell_type": "code",
   "execution_count": 13,
   "id": "8f48566b-5f67-4690-a6ab-f76379588d41",
   "metadata": {},
   "outputs": [
    {
     "data": {
      "text/plain": [
       "{'child1': {'name': 'Emil', 'year': 2004},\n",
       " 'child2': {'name': 'Tobias', 'year': 2007},\n",
       " 'child3': {'name': 'Linus', 'year': 2011}}"
      ]
     },
     "execution_count": 13,
     "metadata": {},
     "output_type": "execute_result"
    }
   ],
   "source": [
    "myfamily"
   ]
  },
  {
   "cell_type": "markdown",
   "id": "6293f86a-1d57-4912-9941-c5ba308f1e9b",
   "metadata": {},
   "source": [
    "----------------------------------------------------------------------------------------------------------------\n",
    "\n",
    "Q7. Using setdefault() method, create key named topics in the given dictionary and also add the value of\n",
    "the key as this list ['Python', 'Machine Learning’, 'Deep Learning']\n",
    "                      dict1 = {'language' : 'Python', 'course': 'Data Science Masters'}"
   ]
  },
  {
   "cell_type": "markdown",
   "id": "52482557-6960-45f2-9999-73ebd2a607e5",
   "metadata": {},
   "source": [
    "ANS: If we use Python Dictionary setdefault() method on any existing key of a dictionary, it’ll return the value of the existing key, but will not modify the dictionary key."
   ]
  },
  {
   "cell_type": "code",
   "execution_count": 5,
   "id": "be02a4bb-320b-4308-9eba-d371a8db4b7a",
   "metadata": {},
   "outputs": [
    {
     "name": "stdout",
     "output_type": "stream",
     "text": [
      "{'language': 'Python', 'course': 'Data Science Masters', 'language2': 'machine learning', 'course2': 'MLcourse', 'language3': 'deep learning', 'course3': 'DLcourse'}\n"
     ]
    }
   ],
   "source": [
    "dict1 = {'language' : 'Python', 'course': 'Data Science Masters'}\n",
    "dict1.setdefault(\"language2\", \"machine learning\")\n",
    "dict1.setdefault( \"course2\", \"MLcourse\")\n",
    "dict1.setdefault(\"language3\", \"deep learning\")\n",
    "dict1.setdefault(\"course3\", \"DLcourse\")\n",
    "print(dict1)"
   ]
  },
  {
   "cell_type": "code",
   "execution_count": null,
   "id": "0ebfd50c-655c-4606-a3cc-22bac133c5b1",
   "metadata": {},
   "outputs": [],
   "source": [
    "\"language2\", \"machine learning\", \"course2\", \"MLcourse\",\n",
    "                 \"language3\", \"deep learning\", \"course3\", \"DLcourse\""
   ]
  },
  {
   "cell_type": "markdown",
   "id": "377d5f23-550a-4c58-85f6-eadd06a4c642",
   "metadata": {},
   "source": [
    "Q8. What are the three view objects in dictionaries? Use the three in-built methods in python to display\n",
    "these three view objects for the given dictionary.\n",
    "dict1 = {'Sport': 'Cricket' , 'Teams': ['India', 'Australia', 'England', 'South Africa', 'Sri Lanka', 'New Zealand']}"
   ]
  },
  {
   "cell_type": "markdown",
   "id": "7d069be9-1f09-4537-9b92-a7a39272c6a5",
   "metadata": {},
   "source": [
    "ANS:The objects returned by dict.keys(), dict.values(), and dict.items() are view objects.\n",
    "They provide a dynamic view of the dictionary’s entries, which means that when the dictionary changes, the view reflects these changes."
   ]
  },
  {
   "cell_type": "code",
   "execution_count": 11,
   "id": "f2860781-58f1-4c3c-8249-3fed14a9ca1b",
   "metadata": {},
   "outputs": [
    {
     "data": {
      "text/plain": [
       "dict_items([('Sport', 'Cricket'), ('Teams', ['India', 'Australia', 'England', 'South Africa', 'Sri Lanka', 'New Zealand'])])"
      ]
     },
     "execution_count": 11,
     "metadata": {},
     "output_type": "execute_result"
    }
   ],
   "source": [
    "dict1 = {'Sport': 'Cricket' ,\n",
    "          'Teams': ['India', 'Australia', 'England', 'South Africa', 'Sri Lanka', 'New Zealand']}\n",
    "dict1.items()"
   ]
  },
  {
   "cell_type": "code",
   "execution_count": 12,
   "id": "ef2c7721-6f45-40b9-9121-6d23f30ec298",
   "metadata": {},
   "outputs": [
    {
     "data": {
      "text/plain": [
       "dict_keys(['Sport', 'Teams'])"
      ]
     },
     "execution_count": 12,
     "metadata": {},
     "output_type": "execute_result"
    }
   ],
   "source": [
    "dict1.keys()"
   ]
  },
  {
   "cell_type": "code",
   "execution_count": 13,
   "id": "5d7137da-53a5-4db0-b99a-63b11f34ef9c",
   "metadata": {},
   "outputs": [
    {
     "data": {
      "text/plain": [
       "dict_values(['Cricket', ['India', 'Australia', 'England', 'South Africa', 'Sri Lanka', 'New Zealand']])"
      ]
     },
     "execution_count": 13,
     "metadata": {},
     "output_type": "execute_result"
    }
   ],
   "source": [
    "dict1.values()"
   ]
  }
 ],
 "metadata": {
  "kernelspec": {
   "display_name": "Python 3 (ipykernel)",
   "language": "python",
   "name": "python3"
  },
  "language_info": {
   "codemirror_mode": {
    "name": "ipython",
    "version": 3
   },
   "file_extension": ".py",
   "mimetype": "text/x-python",
   "name": "python",
   "nbconvert_exporter": "python",
   "pygments_lexer": "ipython3",
   "version": "3.10.8"
  }
 },
 "nbformat": 4,
 "nbformat_minor": 5
}
