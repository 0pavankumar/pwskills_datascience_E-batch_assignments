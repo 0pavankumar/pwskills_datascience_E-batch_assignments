{
 "cells": [
  {
   "cell_type": "markdown",
   "id": "5b61852c-c309-4b45-990c-d9128145605f",
   "metadata": {},
   "source": [
    "Q1, Create a vehicle class with an init method having instance variables as name_of_vehicle, max_speed\n",
    "and average_of_vehicle."
   ]
  },
  {
   "cell_type": "code",
   "execution_count": 1,
   "id": "c8d0ae27-8cba-41ee-b3f0-d5f09fea99b5",
   "metadata": {},
   "outputs": [],
   "source": [
    "class vehicle:\n",
    "    def __init__(self, name_of_vehicle, max_speed, average_of_vehicle):\n",
    "        self.name_of_vehicle = name_of_vehicle\n",
    "        self.max_speed = max_speed\n",
    "        self.average_of_vehicle = average_of_vehicle\n",
    "        "
   ]
  },
  {
   "cell_type": "markdown",
   "id": "cf51de5c-ec52-4a6e-9ace-7297649e2b77",
   "metadata": {},
   "source": [
    "Q2. Create a child class car from the vehicle class created in Que 1, which will inherit the vehicle class.\n",
    "Create a method named seating_capacity which takes capacity as an argument and returns the name of\n",
    "the vehicle and its seating capacity."
   ]
  },
  {
   "cell_type": "code",
   "execution_count": 11,
   "id": "9246cc26-fc07-4318-bde3-9fc7248a8aa8",
   "metadata": {},
   "outputs": [
    {
     "ename": "SyntaxError",
     "evalue": "invalid syntax (1097920292.py, line 1)",
     "output_type": "error",
     "traceback": [
      "\u001b[0;36m  Cell \u001b[0;32mIn[11], line 1\u001b[0;36m\u001b[0m\n\u001b[0;31m    ANS:\u001b[0m\n\u001b[0m         ^\u001b[0m\n\u001b[0;31mSyntaxError\u001b[0m\u001b[0;31m:\u001b[0m invalid syntax\n"
     ]
    }
   ],
   "source": [
    "class vehicle:\n",
    "    def __init__(self, name_of_vehicle, max_speed, average_of_vehicle):\n",
    "        self.name_of_vehicle = name_of_vehicle\n",
    "        self.max_speed = max_speed\n",
    "        self.average_of_vehicle = average_of_vehicle\n",
    "        "
   ]
  },
  {
   "cell_type": "code",
   "execution_count": 3,
   "id": "4eb1b8e5-19dc-4aac-9b99-a5284f72e33f",
   "metadata": {},
   "outputs": [],
   "source": [
    "class car(vehicle):\n",
    "    def seating_capacity(self, capacity):\n",
    "        self.capacity = capacity\n",
    "        return self.name_of_vehicle, self.capacity"
   ]
  },
  {
   "cell_type": "code",
   "execution_count": 4,
   "id": "3f4a870e-ad21-4994-b02c-42158c47a685",
   "metadata": {},
   "outputs": [
    {
     "data": {
      "text/plain": [
       "('BMW', 5)"
      ]
     },
     "execution_count": 4,
     "metadata": {},
     "output_type": "execute_result"
    }
   ],
   "source": [
    "car1= car(\"BMW\",320, 120)\n",
    "car1.seating_capacity(5)"
   ]
  },
  {
   "cell_type": "markdown",
   "id": "bcc7ab72-5322-4f0b-88e6-33f1b6da9fdd",
   "metadata": {},
   "source": [
    "Q3. What is multiple inheritance? Write a python code to demonstrate multiple inheritance."
   ]
  },
  {
   "cell_type": "markdown",
   "id": "1d72cd19-ed0f-4daf-a5b7-599405aa4d0b",
   "metadata": {},
   "source": [
    "ANS: Multiple inheritance is a feature of object-oriented programming (OOP) languages where a class can inherit properties and methods from more than one parent class. In other words, a class can inherit from multiple classes, thus inheriting the attributes and behaviors of all its parent classes."
   ]
  },
  {
   "cell_type": "code",
   "execution_count": 7,
   "id": "f924e635-954f-4a66-b4ca-9996752ddd4b",
   "metadata": {},
   "outputs": [
    {
     "name": "stdout",
     "output_type": "stream",
     "text": [
      "Parent1 m1\n",
      "Parent2 m2\n"
     ]
    }
   ],
   "source": [
    "#example-\n",
    "class Parent1:\n",
    "    def m1(self):\n",
    "        print(\"Parent1 m1\")\n",
    "\n",
    "class Parent2:\n",
    "    def m2(self):\n",
    "        print(\"Parent2 m2\")\n",
    "\n",
    "class Child(Parent1, Parent2):\n",
    "    pass\n",
    "\n",
    "c = Child()\n",
    "c.m1()\n",
    "c.m2()"
   ]
  },
  {
   "cell_type": "markdown",
   "id": "83a14ee2-6063-44c8-bcc1-a56526af3639",
   "metadata": {},
   "source": [
    "Q4. What are getter and setter in python? Create a class and create a getter and a setter method in this\n",
    "class."
   ]
  },
  {
   "cell_type": "markdown",
   "id": "1acfa0b1-ecf9-475a-958b-6e5f89a1a763",
   "metadata": {},
   "source": [
    "ANS: In object-oriented programming, getters and setters are methods used to retrieve and update the values of object properties, respectively. The use of getters and setters is a common technique for encapsulating object data and ensuring that it can be accessed and modified in a controlled and predictable manner."
   ]
  },
  {
   "cell_type": "code",
   "execution_count": 8,
   "id": "a64ad972-5569-4a20-bab2-19b3e48bc922",
   "metadata": {},
   "outputs": [
    {
     "name": "stdout",
     "output_type": "stream",
     "text": [
      "guruvu\n",
      "papa\n"
     ]
    }
   ],
   "source": [
    "class Person:\n",
    "    def __init__(self, name):\n",
    "        self._name = name\n",
    "\n",
    "    def get_name(self):\n",
    "        return self._name\n",
    "\n",
    "    def set_name(self, name):\n",
    "        self._name = name\n",
    "\n",
    "person = Person(\"guruvu\")\n",
    "print(person.get_name()) \n",
    "person.set_name(\"papa\")\n",
    "print(person.get_name()) "
   ]
  },
  {
   "cell_type": "markdown",
   "id": "d53b7779-423e-4e60-b054-10fee0347b21",
   "metadata": {},
   "source": [
    "Q5.What is method overriding in python? Write a python code to demonstrate method overriding."
   ]
  },
  {
   "cell_type": "markdown",
   "id": "b37eaeaf-6feb-4eff-8cf9-3d64f9cd445e",
   "metadata": {},
   "source": [
    "ANS: Method overriding is a feature of object-oriented programming in which a subclass can provide a new implementation of a method that is already defined in its parent class. The subclass method is said to \"override\" the parent class method. This allows the subclass to change or extend the behavior of the method inherited from the parent class, while still maintaining the same method signature."
   ]
  },
  {
   "cell_type": "code",
   "execution_count": 9,
   "id": "be3cde77-97cd-40f2-b2b3-60b7802357c9",
   "metadata": {},
   "outputs": [
    {
     "name": "stdout",
     "output_type": "stream",
     "text": [
      "20000\n",
      "314.0\n"
     ]
    }
   ],
   "source": [
    "class Shape:\n",
    "    def area(self):\n",
    "        pass\n",
    "\n",
    "class Rectangle(Shape):\n",
    "    def __init__(self, width, height):\n",
    "        self.width = width\n",
    "        self.height = height\n",
    "\n",
    "    def area(self):\n",
    "        return self.width * self.height\n",
    "\n",
    "class Circle(Shape):\n",
    "    def __init__(self, radius):\n",
    "        self.radius = radius\n",
    "\n",
    "    def area(self):\n",
    "        return 3.14 * self.radius * self.radius\n",
    "\n",
    "rect = Rectangle(100, 200)\n",
    "print(rect.area()) # Output: 20000\n",
    "\n",
    "circle = Circle(10)\n",
    "print(circle.area()) # Output: 314.0"
   ]
  }
 ],
 "metadata": {
  "kernelspec": {
   "display_name": "Python 3 (ipykernel)",
   "language": "python",
   "name": "python3"
  },
  "language_info": {
   "codemirror_mode": {
    "name": "ipython",
    "version": 3
   },
   "file_extension": ".py",
   "mimetype": "text/x-python",
   "name": "python",
   "nbconvert_exporter": "python",
   "pygments_lexer": "ipython3",
   "version": "3.10.8"
  }
 },
 "nbformat": 4,
 "nbformat_minor": 5
}
