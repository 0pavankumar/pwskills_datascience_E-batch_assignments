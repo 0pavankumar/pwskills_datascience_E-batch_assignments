{
 "cells": [
  {
   "cell_type": "markdown",
   "id": "d3a1d743-00f7-46e0-8a72-52fab761be25",
   "metadata": {},
   "source": [
    "Q1. Create a python program to sort the given list of tuples based on integer value using a\n",
    "lambda function.\n",
    "[('Sachin Tendulkar', 34357), ('Ricky Ponting', 27483), ('Jack Kallis', 25534), ('Virat Kohli', 24936)]"
   ]
  },
  {
   "cell_type": "code",
   "execution_count": 2,
   "id": "12a52c6d-536b-4da8-8296-7ab4039ee4ef",
   "metadata": {},
   "outputs": [
    {
     "name": "stdout",
     "output_type": "stream",
     "text": [
      "Original list of tuples:\n",
      "[('Sachin Tendulkar', 34357), ('Ricky Ponting', 27483), ('Jack Kallis', 25534), ('Virat Kohli', 24936)]\n",
      "\n",
      "Sorting the List of Tuples:\n",
      "[('Virat Kohli', 24936), ('Jack Kallis', 25534), ('Ricky Ponting', 27483), ('Sachin Tendulkar', 34357)]\n"
     ]
    }
   ],
   "source": [
    "list_q1 = [('Sachin Tendulkar', 34357), ('Ricky Ponting', 27483), ('Jack Kallis', 25534),\n",
    "           ('Virat Kohli', 24936)]\n",
    "\n",
    "print(\"Original list of tuples:\")\n",
    "print(list_q1)\n",
    "list_q1.sort(key = lambda x: x[1])\n",
    "print(\"\\nSorting the List of Tuples:\")\n",
    "print(list_q1)"
   ]
  },
  {
   "cell_type": "code",
   "execution_count": null,
   "id": "3f8c0748-e3ce-4062-af78-a7c55ce4a4fc",
   "metadata": {},
   "outputs": [],
   "source": []
  },
  {
   "cell_type": "markdown",
   "id": "8d195a7a-f5a3-4858-aa5b-6c761e7fe0e0",
   "metadata": {},
   "source": [
    "Q2. Write a Python Program to find the squares of all the numbers in the given list of integers using\n",
    "lambda and map functions.\n",
    "[1, 2, 3, 4, 5, 6, 7, 8, 9, 10]"
   ]
  },
  {
   "cell_type": "code",
   "execution_count": 3,
   "id": "3c56e92e-a1f9-447a-b758-c024a80cb15b",
   "metadata": {},
   "outputs": [
    {
     "name": "stdout",
     "output_type": "stream",
     "text": [
      "[1, 4, 9, 16, 25, 36, 49, 64, 81, 100]\n"
     ]
    }
   ],
   "source": [
    "num_list = [1, 2, 3, 4, 5, 6, 7, 8, 9, 10]\n",
    "num_sq = list(map(lambda num: num ** 2, num_list))\n",
    "print(num_sq)\n"
   ]
  },
  {
   "cell_type": "code",
   "execution_count": null,
   "id": "7df9916c-8122-4316-b2a9-6185bf3d9bf9",
   "metadata": {},
   "outputs": [],
   "source": []
  },
  {
   "cell_type": "markdown",
   "id": "8c91f04a-0236-44d2-b4be-d3436a09f05a",
   "metadata": {},
   "source": [
    "Q3. Write a python program to convert the given list of integers into a tuple of strings. Use map and\n",
    "lambda functions\n",
    "Given String: [1, 2, 3, 4, 5, 6, 7, 8, 9, 10]\n",
    "Expected output: ('1', '2', '3', '4', '5', '6', '7', '8', '9', '10')"
   ]
  },
  {
   "cell_type": "code",
   "execution_count": 4,
   "id": "8ec4a8a7-781c-41bb-9efa-e5a9d58ebfa9",
   "metadata": {},
   "outputs": [
    {
     "name": "stdout",
     "output_type": "stream",
     "text": [
      "('1', '2', '3', '4', '5', '6', '7', '8', '9', '10')\n"
     ]
    }
   ],
   "source": [
    "listx = [1, 2, 3, 4, 5, 6, 7, 8, 9, 10]\n",
    "convert_tuple = tuple(map(lambda num : f\"{num}\" , listx))\n",
    "print(convert_tuple)"
   ]
  },
  {
   "cell_type": "code",
   "execution_count": null,
   "id": "e2b07770-709e-4606-bee8-e512b7027806",
   "metadata": {},
   "outputs": [],
   "source": []
  },
  {
   "cell_type": "markdown",
   "id": "1e3604a8-3923-4d67-b506-fbac6d16c5b4",
   "metadata": {},
   "source": [
    "Q4. Write a python program using reduce function to compute the product of a list containing numbers\n",
    "from 1 to 25."
   ]
  },
  {
   "cell_type": "code",
   "execution_count": 5,
   "id": "4a00fb93-fdb4-4249-a67f-ca800edc7b44",
   "metadata": {},
   "outputs": [
    {
     "name": "stdout",
     "output_type": "stream",
     "text": [
      "15511210043330985984000000\n"
     ]
    }
   ],
   "source": [
    "\n",
    "from functools import reduce\n",
    "\n",
    "list_num = []\n",
    "for i in range(1,26):\n",
    "    list_num.append(i)\n",
    "    \n",
    "list_product = reduce(lambda x, y: x*y , list_num)  \n",
    "print(list_product)"
   ]
  },
  {
   "cell_type": "code",
   "execution_count": null,
   "id": "11447378-486e-4799-94fb-dc3f9ae5fa09",
   "metadata": {},
   "outputs": [],
   "source": []
  },
  {
   "cell_type": "markdown",
   "id": "e7ba06d3-66f7-482e-81da-2bab8b7fb2d3",
   "metadata": {},
   "source": [
    "Q5. Write a python program to filter the numbers in a given list that are divisible by 2 and 3 using the\n",
    "filter function.\n",
    "[2, 3, 6, 9, 27, 60, 90, 120, 55, 46]"
   ]
  },
  {
   "cell_type": "code",
   "execution_count": 6,
   "id": "50f307d7-e76c-43b3-bdcd-4de6385130ed",
   "metadata": {},
   "outputs": [
    {
     "name": "stdout",
     "output_type": "stream",
     "text": [
      "[6, 60, 90, 120]\n"
     ]
    }
   ],
   "source": [
    "num =[2, 3, 6, 9, 27, 60, 90, 120, 55, 46]\n",
    "new_list = list(filter(lambda x : x%2==0 and x%3 ==0, num))\n",
    "print(new_list)"
   ]
  },
  {
   "cell_type": "code",
   "execution_count": null,
   "id": "2e481252-5f8a-4a86-af36-87ce2e06128e",
   "metadata": {},
   "outputs": [],
   "source": []
  },
  {
   "cell_type": "markdown",
   "id": "71107dfa-6e4d-46a3-90a0-2a861c4e8e53",
   "metadata": {},
   "source": [
    "Q6. Write a python program to find palindromes in the given list of strings using lambda and filter\n",
    "function.\n",
    "['python', 'php', 'aba', 'radar', 'level']"
   ]
  },
  {
   "cell_type": "code",
   "execution_count": 7,
   "id": "a957b258-7ecc-4a60-bf60-23bcc274c697",
   "metadata": {},
   "outputs": [
    {
     "name": "stdout",
     "output_type": "stream",
     "text": [
      "['php', 'aba', 'radar', 'level']\n"
     ]
    }
   ],
   "source": [
    "\n",
    "list1 = ['python', 'php', 'aba', 'radar', 'level']\n",
    "palindrome_list = list(filter(lambda word: word == word[::-1], list1))\n",
    "print(palindrome_list)"
   ]
  },
  {
   "cell_type": "code",
   "execution_count": null,
   "id": "a4f0fe40-9e87-4a2e-8fdd-46ceaef894ad",
   "metadata": {},
   "outputs": [],
   "source": []
  },
  {
   "cell_type": "code",
   "execution_count": null,
   "id": "20de385d-1ca5-4330-8995-cf2aa6c3c88a",
   "metadata": {},
   "outputs": [],
   "source": []
  },
  {
   "cell_type": "code",
   "execution_count": null,
   "id": "78b007a9-b93c-4a11-bca1-ee3e662c6aed",
   "metadata": {},
   "outputs": [],
   "source": []
  },
  {
   "cell_type": "code",
   "execution_count": null,
   "id": "98c325b1-fa22-49d4-81ff-431c38ea4f54",
   "metadata": {},
   "outputs": [],
   "source": []
  }
 ],
 "metadata": {
  "kernelspec": {
   "display_name": "Python 3 (ipykernel)",
   "language": "python",
   "name": "python3"
  },
  "language_info": {
   "codemirror_mode": {
    "name": "ipython",
    "version": 3
   },
   "file_extension": ".py",
   "mimetype": "text/x-python",
   "name": "python",
   "nbconvert_exporter": "python",
   "pygments_lexer": "ipython3",
   "version": "3.10.8"
  }
 },
 "nbformat": 4,
 "nbformat_minor": 5
}
