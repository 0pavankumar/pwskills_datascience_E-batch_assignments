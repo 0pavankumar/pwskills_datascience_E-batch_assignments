{
 "cells": [
  {
   "cell_type": "markdown",
   "id": "992c3afe-d108-4106-8c3c-116418ba5b09",
   "metadata": {},
   "source": [
    "##Q1. Which keyword is used to create a function? Create a function to return a list of odd numbers in the\n",
    "range of 1 to 25."
   ]
  },
  {
   "cell_type": "markdown",
   "id": "be8b12f6-5d7b-41a3-ae3c-c882b2bdfe61",
   "metadata": {},
   "source": [
    "#ANS: The special syntax *args in function definitions in python is used to pass a variable number of arguments to a function. It is used to pass a non-keyworded, variable-length argument list."
   ]
  },
  {
   "cell_type": "code",
   "execution_count": 1,
   "id": "21661ea3-0464-4d72-b95e-aed175365398",
   "metadata": {},
   "outputs": [
    {
     "name": "stdout",
     "output_type": "stream",
     "text": [
      "[1, 3, 5, 7, 9, 11, 13, 15, 17, 19, 21, 23, 25]\n"
     ]
    }
   ],
   "source": [
    "\"\"\" def is used to create a function\"\"\"\n",
    "\n",
    "\n",
    "def odd():\n",
    "    odd_num =[]\n",
    "    for num in range(1, 26):\n",
    "        if num % 2 != 0:\n",
    "            odd_num.append(num)\n",
    "\n",
    "    return odd_num\n",
    "\n",
    "\n",
    "print(odd())"
   ]
  },
  {
   "cell_type": "markdown",
   "id": "97c4fccc-0ce7-4f32-98b1-c07a9da899ef",
   "metadata": {},
   "source": [
    "\n",
    "--------------------------------------------------------------------------------------------------------------------------------------------"
   ]
  },
  {
   "cell_type": "markdown",
   "id": "b98bb42f-c317-45cf-a078-2bd770658511",
   "metadata": {},
   "source": [
    "##Q2. Why *args and **kwargs is used in some functions? Create a function each for *args and **kwargs to\n",
    "demonstrate their use."
   ]
  },
  {
   "cell_type": "code",
   "execution_count": 9,
   "id": "74e593e8-da7b-4349-afa8-43e4c6633a07",
   "metadata": {},
   "outputs": [
    {
     "name": "stdout",
     "output_type": "stream",
     "text": [
      "Sum: 22\n",
      "\n",
      "Data type of argument: <class 'dict'>\n",
      "Firstname is RAM \n",
      "Lastname is GOLD\n",
      "Email is ramgold@Gomail.com\n",
      "Country is narakaloke\n",
      "Age is 25\n",
      "Phone is 9137825840\n"
     ]
    }
   ],
   "source": [
    "\"\"\"*args allows us to pass a variable number of non-keyword arguments to a Python function. In the function,\n",
    "we should use an asterisk ( * ) before the parameter name to pass a variable number of arguments\"\"\"\n",
    "\n",
    "\n",
    "def thor(*num):\n",
    "    sum = 0\n",
    "\n",
    "    for n in num:\n",
    "        sum = sum + n\n",
    "\n",
    "    print(\"Sum:\", sum)\n",
    "\n",
    "\n",
    "thor(4, 5, 6, 7)\n",
    "\n",
    "\"\"\"**kwargs allows us to pass a variable number of keyword arguments to a Python function.\n",
    " In the function, we use the double-asterisk ( ** ) before the parameter name to denote this type of argument.\"\"\"\n",
    "\n",
    "\n",
    "def introduction(**data):\n",
    "    print(\"\\nData type of argument:\", type(data))\n",
    "\n",
    "    for key, value in data.items():\n",
    "        print(\"{} is {}\".format(key, value))\n",
    "\n",
    "\n",
    "introduction(Firstname=\"RAM \", Lastname=\"GOLD\", Email=\"ramgold@Gomail.com\", Country=\"narakaloke\", Age=25, Phone=9137825840)"
   ]
  },
  {
   "cell_type": "code",
   "execution_count": null,
   "id": "396f8489-20b5-4dec-b57d-a5aa11755656",
   "metadata": {},
   "outputs": [],
   "source": []
  },
  {
   "cell_type": "markdown",
   "id": "bb3223a1-db61-400e-85c7-f422bc506759",
   "metadata": {},
   "source": [
    "------------------------------------------------------------------------------------------------------------------------------"
   ]
  },
  {
   "cell_type": "markdown",
   "id": "6e93e38f-3134-49ff-88ac-fa8d0ffee0b7",
   "metadata": {},
   "source": [
    "##Q3. What is an iterator in python? Name the method used to initialise the iterator object and the method\n",
    "used for iteration. Use these methods to print the first five elements of the given list [2, 4, 6, 8, 10, 12, 14, 16,\n",
    "18, 20]."
   ]
  },
  {
   "cell_type": "markdown",
   "id": "550bbd1b-d567-43fa-990f-2e33c50d2f23",
   "metadata": {},
   "source": [
    "ANS:  An iterator is an object that contains a countable number of values. An iterator is an\n",
    "object that can be iterated upon, meaning that you can traverse through all the values. \n",
    "Technically, in Python, an iterator is an object which implements \n",
    "the iterator protocol, which consist of the methods __iter__() and __next__() ."
   ]
  },
  {
   "cell_type": "code",
   "execution_count": 3,
   "id": "8d51837e-5cb2-46fb-af83-1623d8b3e339",
   "metadata": {},
   "outputs": [
    {
     "name": "stdout",
     "output_type": "stream",
     "text": [
      "2\n",
      "4\n",
      "6\n",
      "8\n",
      "10\n"
     ]
    }
   ],
   "source": [
    "list_num =  [2, 4, 6, 8, 10, 12, 14, 16, 18, 20]\n",
    "it = iter(list_num)\n",
    "\n",
    "for i in range(5):\n",
    "    print(next(it))"
   ]
  },
  {
   "cell_type": "markdown",
   "id": "9e3ca876-85b3-4e7d-ac1e-cb4483776f1c",
   "metadata": {},
   "source": [
    "----------------------------------------------------------------------------------------------------------------------------------------"
   ]
  },
  {
   "cell_type": "markdown",
   "id": "edd0e526-db16-4ff1-976d-23d51bfdc6eb",
   "metadata": {},
   "source": [
    "##Q4. What is a generator function in python? Why yield keyword is used? Give an example of a generator\n",
    "function."
   ]
  },
  {
   "cell_type": "markdown",
   "id": "06df5cf1-4d72-4948-94f4-bb6b21793175",
   "metadata": {},
   "source": [
    "ANS: Yield Keyword and Iterators There are two terms involved when we discuss generators.\n",
    "\n",
    "Generator-Function: A generator-function is defined like a normal function, but whenever it needs to generate a value, it does so with the yield keyword rather than return. If the body of a def contains yield, the function automatically becomes a generator function. "
   ]
  },
  {
   "cell_type": "code",
   "execution_count": 7,
   "id": "ba8bb801-0000-483a-adab-21f77ab206fc",
   "metadata": {},
   "outputs": [
    {
     "name": "stdout",
     "output_type": "stream",
     "text": [
      "<class 'generator'>\n",
      "IMMA WATSON\n",
      "LEADER FOR WOMEN RIGHTS AT UN\n"
     ]
    }
   ],
   "source": [
    "# example\n",
    "def fun_generator():\n",
    "    yield \"IMMA WATSON\"\n",
    "    yield \"LEADER FOR WOMEN RIGHTS AT UN\"\n",
    "\n",
    "\n",
    "obj = fun_generator()\n",
    "\n",
    "print(type(obj))\n",
    "\n",
    "print(next(obj))\n",
    "print(next(obj))"
   ]
  },
  {
   "cell_type": "markdown",
   "id": "a4d4a1af-7697-4ae1-8e8a-6f43469d01d6",
   "metadata": {},
   "source": [
    "-------------------------------------------------------------------------------------------------------------------------------------------"
   ]
  },
  {
   "cell_type": "markdown",
   "id": "ecf6eee5-3bc1-4a91-90d9-6ea4eb590459",
   "metadata": {},
   "source": [
    "##Q5. Create a generator function for prime numbers less than 1000. Use the next() method to print the\n",
    "first 20 prime numbers."
   ]
  },
  {
   "cell_type": "code",
   "execution_count": 4,
   "id": "6b28b6d5-4b69-4fff-be37-f56121c82e1e",
   "metadata": {},
   "outputs": [
    {
     "name": "stdout",
     "output_type": "stream",
     "text": [
      "2\n",
      "3\n",
      "5\n",
      "7\n",
      "11\n",
      "13\n",
      "17\n",
      "19\n",
      "23\n",
      "29\n",
      "31\n",
      "37\n",
      "41\n",
      "43\n",
      "47\n",
      "49\n",
      "53\n",
      "59\n",
      "61\n",
      "67\n"
     ]
    }
   ],
   "source": [
    "def prime_num():\n",
    "    num = 1\n",
    "    while num < 1000:\n",
    "        if num == 1:\n",
    "            num += 1\n",
    "        elif num == 2:\n",
    "            yield num\n",
    "            num += 1\n",
    "        elif num == 3:\n",
    "            yield num\n",
    "            num += 1\n",
    "        elif num == 5:\n",
    "            yield num\n",
    "            num += 1\n",
    "        elif num % 2 == 0 or num % 3 == 0 or num % 5 == 0:\n",
    "            num += 1\n",
    "        else:\n",
    "            yield num\n",
    "            num += 1\n",
    "\n",
    "\n",
    "values = prime_num()\n",
    "for i in range(20):\n",
    "    print(next(values))\n",
    "    "
   ]
  }
 ],
 "metadata": {
  "kernelspec": {
   "display_name": "Python 3 (ipykernel)",
   "language": "python",
   "name": "python3"
  },
  "language_info": {
   "codemirror_mode": {
    "name": "ipython",
    "version": 3
   },
   "file_extension": ".py",
   "mimetype": "text/x-python",
   "name": "python",
   "nbconvert_exporter": "python",
   "pygments_lexer": "ipython3",
   "version": "3.10.8"
  }
 },
 "nbformat": 4,
 "nbformat_minor": 5
}
