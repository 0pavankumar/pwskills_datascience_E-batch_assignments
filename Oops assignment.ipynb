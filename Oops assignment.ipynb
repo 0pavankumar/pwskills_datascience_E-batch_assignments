{
 "cells": [
  {
   "cell_type": "markdown",
   "id": "b9e730f7-c4de-4bc6-a960-cf60e24176e3",
   "metadata": {},
   "source": [
    "Q1. Explain Class and Object with respect to Object-Oriented Programming. Give a suitable example."
   ]
  },
  {
   "cell_type": "markdown",
   "id": "073e0f73-6fec-4bbf-bd54-c5ec8728bdcf",
   "metadata": {},
   "source": [
    "ans: A Class in object oriented programming is a blueprint or prototype that defines the variables and the methods (functions) common to all Java Objects of a certain kind. An object in OOPS is a specimen of a class. Software objects are often used to model real-world objects you find in everyday life."
   ]
  },
  {
   "cell_type": "markdown",
   "id": "fe1591f8-ebb3-47f1-87a9-0e3c6d6cc270",
   "metadata": {},
   "source": [
    "Q2. Name the four pillars of OOPs."
   ]
  },
  {
   "cell_type": "markdown",
   "id": "a01e5878-8647-4ceb-8329-b6778825ac6c",
   "metadata": {},
   "source": [
    "# The four pillars for OOP are Abstraction, Encapsulation, Inheritance, Polymorphism.\n",
    "\n",
    "1.  Abstraction : Abstraction is the process of showing only essential/necessary features of an entity/object to the outside world and hide the other irrelevant information. For example to open your TV we only have a power button, It is not required to understand how infra-red waves are getting generated in TV remote control.\n",
    "2.  Encapsulation : Encapsulation means wrapping up data and member function (Method) together into a single unit i.e. class. Encapsulation automatically achieve the concept of data hiding providing security to data by making the variable as private and expose the property to access the private data which would be public.\n",
    "3.  Inheritance : The ability of creating a new class from an existing class. Inheritance is when an object acquires the property of another object. Inheritance allows a class (subclass) to acquire the properties and behavior of another class (super-class). It helps to reuse, customize and enhance the existing code. So it helps to write a code accurately and reduce the development time.\n",
    "4.  Polymorphism: Polymorphism is derived from 2 Greek words: poly and morphs. The word \"poly\" means many and \"morphs\" means forms. So polymorphism means \"many forms\". A subclass can define its own unique behavior and still share the same functionalities or behavior of its parent/base class. A subclass can have their own behavior and share some of its behavior from its parent class not the other way around. A parent class cannot have the behavior of its subclass."
   ]
  },
  {
   "cell_type": "markdown",
   "id": "d8eebe6b-7db2-4051-bd6d-7f86e999d2d5",
   "metadata": {},
   "source": [
    "Q3. Explain why the __init__() function is used. Give a suitable example."
   ]
  },
  {
   "cell_type": "markdown",
   "id": "094c3da3-f99b-43fb-9b1c-7050b3dd6c26",
   "metadata": {},
   "source": [
    "ANS: The __init__ function is called a constructor, or initializer, and is automatically called when you create a new instance of a class.\n",
    " FOR EXAMPLE:"
   ]
  },
  {
   "cell_type": "code",
   "execution_count": 3,
   "id": "fdcdd281-bd4d-4fe4-8588-b3cae1df12b0",
   "metadata": {},
   "outputs": [],
   "source": [
    "class tarun():\n",
    "    def __init__(self, name, mobileno):\n",
    "        \n",
    "        self.name= name\n",
    "        self.number= mobileno\n",
    "    \n",
    "    def alldetails(self):\n",
    "        return alldetails\n",
    "    \n",
    "    "
   ]
  },
  {
   "cell_type": "code",
   "execution_count": 5,
   "id": "b8223622-7f87-47e5-be91-691515be70c7",
   "metadata": {},
   "outputs": [],
   "source": [
    "dev= tarun(\"dev\",5468241)"
   ]
  },
  {
   "cell_type": "code",
   "execution_count": 7,
   "id": "57593f4c-a587-4ac8-8cb3-89bcddcb7199",
   "metadata": {},
   "outputs": [
    {
     "data": {
      "text/plain": [
       "5468241"
      ]
     },
     "execution_count": 7,
     "metadata": {},
     "output_type": "execute_result"
    }
   ],
   "source": [
    "dev.number"
   ]
  },
  {
   "cell_type": "code",
   "execution_count": 8,
   "id": "87e063e5-31c2-4a17-9ec4-859e03d4d5af",
   "metadata": {},
   "outputs": [
    {
     "data": {
      "text/plain": [
       "'dev'"
      ]
     },
     "execution_count": 8,
     "metadata": {},
     "output_type": "execute_result"
    }
   ],
   "source": [
    "dev.name"
   ]
  },
  {
   "cell_type": "markdown",
   "id": "da083a19-2e57-48aa-8cd6-2f379a514307",
   "metadata": {},
   "source": [
    "Q4. Why self is used in OOPs?"
   ]
  },
  {
   "cell_type": "markdown",
   "id": "7bc92247-1cee-4ea4-8819-818a67e7bf2d",
   "metadata": {},
   "source": [
    "ANS: \" self \" is the instance object automatically passed to the class instance's method when called, to identify the instance that called it. \" self \" is used to access other attributes or methods of the object from inside the method. (methods are basically just functions that belong to a class)"
   ]
  },
  {
   "cell_type": "markdown",
   "id": "5a4948bf-f564-4829-bdb4-3687b3484f89",
   "metadata": {},
   "source": [
    "Q5. What is inheritance? Give an example for each type of inheritance."
   ]
  },
  {
   "cell_type": "code",
   "execution_count": null,
   "id": "b759642b-f89d-4f2f-a42b-829266fb351b",
   "metadata": {},
   "outputs": [],
   "source": [
    "ANS:\n",
    "    One of the core concepts in object-oriented programming (OOP) languages is inheritance. It is a mechanism that allows you to create a hierarchy of classes that share a set of properties and methods by deriving a class from another class. Inheritance is the capability of one class to derive or inherit the properties from another class. \n",
    "\n",
    "Benefits of inheritance are: \n",
    "It represents real-world relationships well.\n",
    "It provides the reusability of a code. We don’t have to write the same code again and again. Also, it allows us to add more features to a class without modifying it.\n",
    "It is transitive in nature, which means that if class B inherits from another class A, then all the subclasses of B would automatically inherit from class A.\n",
    "Inheritance offers a simple, understandable model structure. \n",
    "Less development and maintenance expenses result from an inheritance. "
   ]
  },
  {
   "cell_type": "markdown",
   "id": "cbe37355-c312-498e-8e0f-0ee9e3b98bdb",
   "metadata": {},
   "source": [
    "1. Single Inheritance: \n",
    "Single inheritance enables a derived class to inherit properties from a single parent class, thus enabling code reusability and the addition of new features to existing code.\n",
    "2.  Multiple Inheritance: \n",
    "When a class can be derived from more than one base class this type of inheritance is called multiple inheritances. In multiple inheritances, all the features of the base classes are inherited into the derived class.\n",
    "3. Multilevel Inheritance :\n",
    "In multilevel inheritance, features of the base class and the derived class are further inherited into the new derived class. This is similar to a relationship representing a child and a grandfather. \n",
    "4. Hierarchical Inheritance: \n",
    "When more than one derived class are created from a single base this type of inheritance is called hierarchical inheritance. In this program, we have a parent (base) class and two child (derived) classes.\n",
    "5. Hybrid Inheritance: \n",
    "Inheritance consisting of multiple types of inheritance is called hybrid inheritance."
   ]
  },
  {
   "cell_type": "code",
   "execution_count": 48,
   "id": "9321a82c-5585-4d3d-b1b1-2f9b24c52133",
   "metadata": {},
   "outputs": [
    {
     "name": "stdout",
     "output_type": "stream",
     "text": [
      "this is my test1\n"
     ]
    }
   ],
   "source": [
    "#SINGLE INHERITANCE\n",
    "class parent:\n",
    "    def test1(self):\n",
    "        print(\"this is my test1\")\n",
    "class chill(parent):\n",
    "    pass\n",
    "\n",
    "\n",
    "\n",
    "chill_obj =chill()\n",
    "chill_obj.test1()"
   ]
  },
  {
   "cell_type": "code",
   "execution_count": 50,
   "id": "1c884187-d9f3-4069-a379-d134e260689f",
   "metadata": {},
   "outputs": [
    {
     "name": "stdout",
     "output_type": "stream",
     "text": [
      "this is my chi class1\n"
     ]
    }
   ],
   "source": [
    "#MULTI LEVEL INHERITANCE:\n",
    "class parent:\n",
    "    def test2(self):\n",
    "        print(\"this is my p class\")\n",
    "class child1(parent):\n",
    "    def test3(self):\n",
    "        print(\"this is my chi class1\")\n",
    "class child2(child1):\n",
    "    def test4(self):\n",
    "        print(\"this is my chi class2\")\n",
    "gov_obj= child2()\n",
    "gov_obj.test3()"
   ]
  },
  {
   "cell_type": "code",
   "execution_count": 51,
   "id": "d73321ef-7b7e-491b-acc3-b6dab365015b",
   "metadata": {},
   "outputs": [],
   "source": [
    "#MULTIPLE INHERITANCE:\n",
    "class parent1:\n",
    "    def test2(self):\n",
    "        print(\"this is my p class\")\n",
    "class parent2(parent):\n",
    "    def test3(self):\n",
    "        print(\"this is my chi class1\")\n",
    "class child(parent1, parent2):\n",
    "    pass"
   ]
  },
  {
   "cell_type": "code",
   "execution_count": 54,
   "id": "fd48be3c-11ac-4225-a794-2a02d1665688",
   "metadata": {},
   "outputs": [
    {
     "name": "stdout",
     "output_type": "stream",
     "text": [
      "this is my p class\n",
      "this is my chi class1\n"
     ]
    }
   ],
   "source": [
    "#output\n",
    "bo_obj=child()\n",
    "bo_obj.test2()\n",
    "bo_obj.test3()"
   ]
  },
  {
   "cell_type": "code",
   "execution_count": 62,
   "id": "5958623e-9b23-4906-b29f-b9fef443aba1",
   "metadata": {},
   "outputs": [
    {
     "name": "stdout",
     "output_type": "stream",
     "text": [
      "my mother\n",
      "moms child1\n",
      "my mother\n",
      "moms child2\n"
     ]
    }
   ],
   "source": [
    "#HIERARCHICAL INHERITANCE:\n",
    "class mother:\n",
    "    def future(self):\n",
    "        print(\"my mother\")\n",
    "class son1(mother):\n",
    "    def future1(self):\n",
    "        print(\"moms child1\")\n",
    "class son2(mother):\n",
    "    def future2(self):\n",
    "        print(\"moms child2\")\n",
    "        \n",
    "#output\n",
    "to_obj=son1()\n",
    "toll_obj=son2()\n",
    "to_obj.future()\n",
    "to_obj.future1()\n",
    "toll_obj.future()\n",
    "toll_obj.future2()"
   ]
  },
  {
   "cell_type": "code",
   "execution_count": 67,
   "id": "87e70e38-0b11-4c83-ab4d-5c2b9cf8451e",
   "metadata": {},
   "outputs": [
    {
     "name": "stdout",
     "output_type": "stream",
     "text": [
      "i am the god\n",
      "my mother\n"
     ]
    }
   ],
   "source": [
    "#hybrid inheritance\n",
    "class mother:\n",
    "    def future(self):\n",
    "        print(\"my mother\")\n",
    "class son1(mother):\n",
    "    def future1(self):\n",
    "        print(\"moms child1\")\n",
    "class son2(mother):\n",
    "    def future2(self):\n",
    "        print(\"moms child2\")\n",
    "class son3(son1, mother):\n",
    "    def future3(self):\n",
    "        print(\"i am the god\")\n",
    "#output\n",
    "kok_obj=son3()\n",
    "kok_obj.future3()\n",
    "kok_obj.future()"
   ]
  },
  {
   "cell_type": "code",
   "execution_count": null,
   "id": "678a0d52-5682-416a-9467-56d95747fa5f",
   "metadata": {},
   "outputs": [],
   "source": [
    "#notepoint(class son3(son1, mother))\n",
    "#while writing first one should come the child one\n",
    "#if we write parent first it come error"
   ]
  }
 ],
 "metadata": {
  "kernelspec": {
   "display_name": "Python 3 (ipykernel)",
   "language": "python",
   "name": "python3"
  },
  "language_info": {
   "codemirror_mode": {
    "name": "ipython",
    "version": 3
   },
   "file_extension": ".py",
   "mimetype": "text/x-python",
   "name": "python",
   "nbconvert_exporter": "python",
   "pygments_lexer": "ipython3",
   "version": "3.10.8"
  }
 },
 "nbformat": 4,
 "nbformat_minor": 5
}
