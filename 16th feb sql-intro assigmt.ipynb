{
 "cells": [
  {
   "cell_type": "markdown",
   "id": "9a589823-9b05-459b-8b46-1b808ae0b2ab",
   "metadata": {},
   "source": [
    "Q1. What is a database? Differentiate between SQL and NoSQL databases."
   ]
  },
  {
   "cell_type": "markdown",
   "id": "3902e7c3-eeb7-4c0f-a0ab-81f11c0dbb6f",
   "metadata": {},
   "source": [
    "ANS: A database is a systematic collection of data. They support electronic storage and manipulation of data. Databases make data management easy."
   ]
  },
  {
   "cell_type": "markdown",
   "id": "97372999-33e8-4615-aa85-6c0a1057f4c9",
   "metadata": {},
   "source": [
    "these are the main difference b\\w sql and no-sql\n",
    "**SQL-  RELATIONAL DATABASE MANAGEMENT SYSTEM (RDBMS)\n",
    "\n",
    "**NoSQL- Non-relational or distributed database system.\n",
    "\n",
    "*SQL-  These databases have fixed or static or predefined schema\t\t\n",
    "\n",
    "*NoSQL-  They have dynamic schema\n",
    "\n",
    "*SQL-  These databases are not suited for hierarchical data storage.\n",
    "\n",
    "*NoSQL- These databases are best suited for hierarchical data storage.\n",
    "\n",
    "*SQL-  These databases are best suited for complex queries\t\n",
    "\n",
    "*NoSQL- These databases are not so good for complex queries\n",
    "\n",
    "*SQL-  Vertically Scalable\t\n",
    "\n",
    "*NoSQL- Horizontally scalable\n",
    "\n",
    "*SQL- Follows ACID property\t\n",
    "\n",
    "*NoSQL- Follows CAP(consistency, availability, partition tolerance)\n",
    "\n",
    "*SQL- Examples: MySQL, PostgreSQL, Oracle, MS-SQL Server, etc\t\n",
    "\n",
    "*NoSQL- Examples: MongoDB, GraphQL, HBase, Neo4j, Cassandra, etc"
   ]
  },
  {
   "cell_type": "markdown",
   "id": "889425f8-438a-43df-b493-48bc9cb9f1c4",
   "metadata": {},
   "source": [
    "Q2. What is DDL? Explain why CREATE, DROP, ALTER, and TRUNCATE are used with an example."
   ]
  },
  {
   "cell_type": "markdown",
   "id": "d1777527-8235-4b7d-a28e-dd6ce0fc53af",
   "metadata": {},
   "source": [
    "sql commands are FOUR TYPES THEY ARE--DDL, DML, DCL, and TCL.\n",
    "**DDL-Data Definition Language\n",
    "   1)CREATE- to create a database and its objects like (table, index, views, store procedure, function, and triggers)\n",
    "   2)ALTER- alters the structure of the existing database\n",
    "   3)DROP - delete objects from the database\n",
    "   4)TRUNCATE- remove all records from a table, including all spaces allocated  for the records are removed\n",
    "   5)COMMENT\n",
    "   6)RENAME\n",
    "\n",
    "**DML-Data Manupulation Language\n",
    "\n",
    "    1) SELECT - retrieve data from a database\n",
    "    \n",
    "    2) INSERT - insert data into a table\n",
    "    \n",
    "    3) UPDATE - updates existing data within a table\n",
    "    \n",
    "    4) DELETE - Delete all records from a database table\n",
    "    \n",
    "    5) MERGE - UPSERT operation (insert or update)\n",
    "    \n",
    "    6) CALL - call a PL/SQL or Java subprogram\n",
    "    \n",
    "    7) EXPLAIN PLAN - interpretation of the data access path\n",
    "    \n",
    "    8) LOCK TABLE - concurrency Control\n",
    "\n",
    "\n",
    "**DCL-Data Control Language\n",
    "\n",
    "    GRANT - allow users access privileges to the database\n",
    "    \n",
    "    REVOKE - withdraw users access privileges given by using the GRANT command\n",
    "\n",
    "\n",
    "**TCL-Transaction Control Language\n",
    "\n",
    "    1) COMMIT - commits a Transaction\n",
    "    \n",
    "    2) ROLLBACK - rollback a transaction in case of any error occurs\n",
    "    3) SAVEPOINT - to rollback the transaction making points within groups\n",
    "    4) SET TRANSACTION - specify characteristics of the transaction"
   ]
  },
  {
   "cell_type": "code",
   "execution_count": null,
   "id": "9621f8db-cc20-42e0-89b1-a2d5683b6ec0",
   "metadata": {},
   "outputs": [
    {
     "ename": "SyntaxError",
     "evalue": "invalid syntax (1134797.py, line 2)",
     "output_type": "error",
     "traceback": [
      "\u001b[0;36m  Cell \u001b[0;32mIn[3], line 2\u001b[0;36m\u001b[0m\n\u001b[0;31m    CREATE DATABASE mydatabase;\u001b[0m\n\u001b[0m           ^\u001b[0m\n\u001b[0;31mSyntaxError\u001b[0m\u001b[0;31m:\u001b[0m invalid syntax\n"
     ]
    }
   ],
   "source": [
    "#CREATE EXAMPLE\n",
    "CREATE DATABASE mydatabase;\n",
    "#DROP EXAMPLE\n",
    "DROP COLUMN1;\n",
    "#ALTER EXAMPLE\n",
    "ALTER TABLE Customers\n",
    "ADD Email varchar(255);\n",
    "#TRUNCATE EXAMPLE\n",
    "TRUNCATE TABLE2;\n",
    "#DELETE THE DATA BUT NOT THE TABLE"
   ]
  },
  {
   "cell_type": "markdown",
   "id": "803f36f0-2922-45a6-ba35-bfca64ea28b3",
   "metadata": {},
   "source": [
    "Q3. What is DML? Explain INSERT, UPDATE, and DELETE with an example."
   ]
  },
  {
   "cell_type": "code",
   "execution_count": null,
   "id": "fe9481c1-0775-4dd4-b823-39029a5c4615",
   "metadata": {},
   "outputs": [
    {
     "ename": "SyntaxError",
     "evalue": "unmatched ')' (3480761052.py, line 2)",
     "output_type": "error",
     "traceback": [
      "\u001b[0;36m  Cell \u001b[0;32mIn[4], line 2\u001b[0;36m\u001b[0m\n\u001b[0;31m    1) SELECT - retrieve data from a database\u001b[0m\n\u001b[0m     ^\u001b[0m\n\u001b[0;31mSyntaxError\u001b[0m\u001b[0;31m:\u001b[0m unmatched ')'\n"
     ]
    }
   ],
   "source": [
    "**DML-Data Manupulation Language\n",
    "    1) SELECT - retrieve data from a database\n",
    "    2) INSERT - insert data into a table\n",
    "    3) UPDATE - updates existing data within a table\n",
    "    4) DELETE - Delete all records from a database table\n",
    "    5) MERGE - UPSERT operation (insert or update)\n",
    "    6) CALL - call a PL/SQL or Java subprogram\n",
    "    7) EXPLAIN PLAN - interpretation of the data access path\n",
    "    8) LOCK TABLE - concurrency Control\n"
   ]
  },
  {
   "cell_type": "code",
   "execution_count": null,
   "id": "f2571ac8-f997-4f7b-8fff-286cab953443",
   "metadata": {},
   "outputs": [],
   "source": [
    "# DELETE EXAMPLE\n",
    "DELETE FROM ROW2;\n",
    "#UPDATE EXAMPLE\n",
    "UPDATE TABLE_DATA1\n",
    "SET name=\"guru\"\n",
    "WHERE country=\"chili\";\n",
    "#INSERT EXAMPLE\n",
    "INSERT INTO ROW4(C1, C2,C3);"
   ]
  },
  {
   "cell_type": "markdown",
   "id": "b63ccceb-153e-4d95-89ed-b57be7f4ba44",
   "metadata": {},
   "source": [
    "Q4. What is DQL? Explain SELECT with an example."
   ]
  },
  {
   "cell_type": "markdown",
   "id": "ab04b66a-d3ec-4924-a5d9-6fa68b8523e2",
   "metadata": {},
   "source": [
    "DQL (Data Query Language):\n",
    "DQL statements are used for performing queries on the data within schema objects. The purpose of the DQL Command is to get some schema relation based on the query passed to it. We can define DQL as follows it is a component of SQL statement that allows getting data from the database and imposing order upon it. It includes the SELECT statement. This command allows getting the data out of the database to perform operations with it. When a SELECT is fired against a table or tables the result is compiled into a further temporary table, which is displayed or perhaps received by the program i.e. a front-end.\n",
    "SELECT: It is used to retrieve data from the database.\n"
   ]
  },
  {
   "cell_type": "markdown",
   "id": "ea3aa517-7ab0-4ea2-8abc-bf48c0e616eb",
   "metadata": {},
   "source": [
    "EXAMPLE SELECT\n",
    "SELECT Stu_Name FROM Student WHERE Phone = 903*****8;\n",
    "\n",
    "The command given above would select the record from the table ‘Student’ where the phone number is ‘903*****8’."
   ]
  },
  {
   "cell_type": "markdown",
   "id": "d689224b-a248-4ecc-b420-fbb77963c2c3",
   "metadata": {},
   "source": [
    "Q5. Explain Primary Key and Foreign Key."
   ]
  },
  {
   "cell_type": "markdown",
   "id": "e698f0be-a2c9-41fb-b4ee-6b9009348307",
   "metadata": {},
   "source": [
    "**Primary Key:\n",
    "A primary key is used to ensure that data in the specific column is unique. A column cannot have NULL values. It is either an existing table column or a column that is specifically generated by the database according to a defined sequence. \n",
    "\n",
    "Example:\n",
    "STUD_NO, as well as STUD_PHONE both, are candidate keys for relation STUDENT but STUD_NO can be chosen as the primary key (only one out of many candidate keys). \n",
    "\n",
    "\n"
   ]
  },
  {
   "cell_type": "markdown",
   "id": "d5d99025-071e-470e-9ae5-9edbc3b3a3d1",
   "metadata": {},
   "source": [
    "**Foreign Key: \n",
    "A foreign key is a column or group of columns in a relational database table that provides a link between data in two tables. It is a column (or columns) that references a column (most often the primary key) of another table. \n",
    "\n",
    "Example:\n",
    "STUD_NO in STUDENT_COURSE is a foreign key to STUD_NO in STUDENT relation. "
   ]
  },
  {
   "cell_type": "markdown",
   "id": "a512d4ad-1592-44b2-9493-c303cd589a25",
   "metadata": {
    "tags": []
   },
   "source": [
    "Q6. Write a python code to connect MySQL to python. Explain the cursor() and execute() method."
   ]
  },
  {
   "cell_type": "code",
   "execution_count": null,
   "id": "6e68a3e3-56c7-47ae-809a-85b1e91f0818",
   "metadata": {},
   "outputs": [],
   "source": [
    "import mysql.connector\n",
    "# import mysql.connector\n",
    "#create user 'user'@'%' identified by 'password'\n",
    "mydb = mysql.connector.connect(\n",
    "  host=\"localhost_NAME\",\n",
    "  user=\"USER_ID\",\n",
    "  password=\"USER_password\")"
   ]
  },
  {
   "cell_type": "markdown",
   "id": "6b5a50c8-8b25-45b3-84df-4d04f7665f74",
   "metadata": {},
   "source": [
    "#CURSOR METHOD\n",
    "After creating a connection, to execute SQL statements on SQLite Database, you need a cursor. Its like a temporary location that stores results of the queries and are updated in DB only when you commit them with commit method on connection object.\n",
    "\n",
    "Syntax\n",
    "\n",
    "cursor-name=connect_object.cursor()\n",
    "\n",
    "cursor -name is the name of the cursor to be given by you.  connect_object  is the name of the connect handle already declared with connect method. Cursor is the method to create a cursor"
   ]
  },
  {
   "cell_type": "markdown",
   "id": "353e7cb6-2a26-4ae4-b7a4-bf02b1c95e92",
   "metadata": {},
   "source": [
    "#EXECUTE METHOD\n",
    "To run SQL commands you will use the execute method. It can be called with a cursor object and you get back the set of rows affected by the SQL command. All the SQL queries can be run inside the execute command enclosing it in single quotes or triple single quotes directives.\n",
    "\n",
    "Note : it is better to use ‘’’’ ’’’ directive(triple single quotes) to avoid the problems imposed by SQL injections.\n",
    "\n",
    "Syntax\n",
    "\n",
    "Cursor_name.execute(query as a string):\n",
    "\n",
    "commit() is used to save the changes made in the database. It is always used with connection object"
   ]
  },
  {
   "cell_type": "markdown",
   "id": "42422f05-4499-46ea-89d8-c13df9edb02a",
   "metadata": {},
   "source": [
    "Q7. Give the order of execution of SQL clauses in an SQL query."
   ]
  },
  {
   "cell_type": "markdown",
   "id": "0d33466f-1901-4f4a-998f-6112a59a66f2",
   "metadata": {},
   "source": [
    "Knowing the order in which an SQL query is executed can help us a great deal in optimizing our queries. This is especially true with large and complex queries where knowing the order of execution can save us from unwanted results, and help us create queries that execute faster."
   ]
  },
  {
   "cell_type": "markdown",
   "id": "bea830a4-5afc-41d8-8a41-aba59a39f4b6",
   "metadata": {},
   "source": [
    "In SQL, the first clause that is processed is the FROM clause, while the SELECT clause, which appears first in an SQL query, is processed much later. The phases involved in the logical processing of an SQL query are as follows:\n",
    "\n",
    "FROM clause\n",
    "\n",
    "ON clause\n",
    "\n",
    "OUTER clause\n",
    "\n",
    "WHERE clause\n",
    "\n",
    "GROUP BY clause\n",
    "\n",
    "HAVING clause\n",
    "\n",
    "SELECT clause\n",
    "\n",
    "DISTINCT clause\n",
    "\n",
    "ORDER BY clause\n",
    "\n",
    "TOP clause\n",
    "In practice this order of execution is most likely unchanged from above. With this information, we can fine-tune our queries for speed and performance."
   ]
  },
  {
   "cell_type": "code",
   "execution_count": null,
   "id": "613ece82-5b79-4a63-8120-2399a30cf170",
   "metadata": {},
   "outputs": [],
   "source": []
  }
 ],
 "metadata": {
  "kernelspec": {
   "display_name": "Python 3 (ipykernel)",
   "language": "python",
   "name": "python3"
  },
  "language_info": {
   "codemirror_mode": {
    "name": "ipython",
    "version": 3
   },
   "file_extension": ".py",
   "mimetype": "text/x-python",
   "name": "python",
   "nbconvert_exporter": "python",
   "pygments_lexer": "ipython3",
   "version": "3.10.8"
  }
 },
 "nbformat": 4,
 "nbformat_minor": 5
}
